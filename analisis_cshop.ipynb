{
 "cells": [
  {
   "cell_type": "code",
   "execution_count": 1,
   "metadata": {},
   "outputs": [],
   "source": [
    "import pandas as pd\n",
    "import numpy as np\n",
    "import matplotlib.pyplot as plt\n",
    "from geopy.distance import geodesic\n",
    "from sklearn.model_selection import train_test_split\n",
    "from sklearn.linear_model import LinearRegression\n",
    "from sklearn.linear_model import Ridge\n",
    "from sklearn.ensemble import RandomForestRegressor\n",
    "from sklearn.metrics import mean_absolute_error\n",
    "from sklearn.metrics import mean_squared_error"
   ]
  },
  {
   "cell_type": "code",
   "execution_count": 2,
   "metadata": {},
   "outputs": [],
   "source": [
    "# Cargando data\n",
    "\n",
    "products= pd.read_csv(\"data/order_products.csv\")\n",
    "orders = pd.read_csv(\"data/orders.csv\")\n",
    "shoppers = pd.read_csv(\"data/shoppers.csv\")\n",
    "stores = pd.read_csv(\"data/storebranch.csv\")"
   ]
  },
  {
   "cell_type": "markdown",
   "metadata": {},
   "source": [
    "# Trabajando data de productos"
   ]
  },
  {
   "cell_type": "markdown",
   "metadata": {},
   "source": [
    "Transformamdo data de productos en resumen por cada orden, con cantidad de productos distintos por orden, unidades por orden y kilos por orden.\n"
   ]
  },
  {
   "cell_type": "code",
   "execution_count": 3,
   "metadata": {},
   "outputs": [],
   "source": [
    "products['kg'] = products.apply(lambda x: x.quantity if x.buy_unit == \"KG\" else 0, axis = 1) # crea columna con kilos de producto\n",
    "products['units'] = products.apply(lambda x: x.quantity if x.buy_unit == \"UN\" else 0, axis = 1) # crea columna con unidades de producto \n",
    "\n",
    "order_info = products.groupby('order_id', as_index=False).agg({'product_id':'count', 'kg':'sum', 'units':'sum'})\\\n",
    "            .rename(columns={\"product_id\":\"distinct_q\", \"kg\":\"total_kg\", \"units\":\"total_units\"}) # agrupa totales por orden "
   ]
  },
  {
   "cell_type": "code",
   "execution_count": 4,
   "metadata": {},
   "outputs": [
    {
     "data": {
      "text/html": [
       "<div>\n",
       "<style scoped>\n",
       "    .dataframe tbody tr th:only-of-type {\n",
       "        vertical-align: middle;\n",
       "    }\n",
       "\n",
       "    .dataframe tbody tr th {\n",
       "        vertical-align: top;\n",
       "    }\n",
       "\n",
       "    .dataframe thead th {\n",
       "        text-align: right;\n",
       "    }\n",
       "</style>\n",
       "<table border=\"1\" class=\"dataframe\">\n",
       "  <thead>\n",
       "    <tr style=\"text-align: right;\">\n",
       "      <th></th>\n",
       "      <th>order_id</th>\n",
       "      <th>distinct_q</th>\n",
       "      <th>total_kg</th>\n",
       "      <th>total_units</th>\n",
       "    </tr>\n",
       "  </thead>\n",
       "  <tbody>\n",
       "    <tr>\n",
       "      <th>5471</th>\n",
       "      <td>8bb0e067cf5302c62ded647d4aef6e5c</td>\n",
       "      <td>1</td>\n",
       "      <td>0.000</td>\n",
       "      <td>4.0</td>\n",
       "    </tr>\n",
       "    <tr>\n",
       "      <th>7181</th>\n",
       "      <td>b8e33e8ae603b174956ce684cac4dfee</td>\n",
       "      <td>1</td>\n",
       "      <td>0.000</td>\n",
       "      <td>1.0</td>\n",
       "    </tr>\n",
       "    <tr>\n",
       "      <th>7194</th>\n",
       "      <td>b9333a5b7e418675c7fff8b92159da1f</td>\n",
       "      <td>1</td>\n",
       "      <td>0.000</td>\n",
       "      <td>1.0</td>\n",
       "    </tr>\n",
       "    <tr>\n",
       "      <th>1833</th>\n",
       "      <td>2fdfbd2ee65811661cc16b276eb33a8a</td>\n",
       "      <td>1</td>\n",
       "      <td>0.000</td>\n",
       "      <td>1.0</td>\n",
       "    </tr>\n",
       "    <tr>\n",
       "      <th>7210</th>\n",
       "      <td>b98aa19011d8e051548028a4075c7fb1</td>\n",
       "      <td>1</td>\n",
       "      <td>0.000</td>\n",
       "      <td>1.0</td>\n",
       "    </tr>\n",
       "    <tr>\n",
       "      <th>...</th>\n",
       "      <td>...</td>\n",
       "      <td>...</td>\n",
       "      <td>...</td>\n",
       "      <td>...</td>\n",
       "    </tr>\n",
       "    <tr>\n",
       "      <th>6515</th>\n",
       "      <td>a77e9b1ac7d19b52b1bbfb4bc08ef158</td>\n",
       "      <td>118</td>\n",
       "      <td>4.736</td>\n",
       "      <td>262.0</td>\n",
       "    </tr>\n",
       "    <tr>\n",
       "      <th>9810</th>\n",
       "      <td>fbf351bb22fd781edd54f278bae1668e</td>\n",
       "      <td>120</td>\n",
       "      <td>6.164</td>\n",
       "      <td>191.0</td>\n",
       "    </tr>\n",
       "    <tr>\n",
       "      <th>5284</th>\n",
       "      <td>866cdbeb18d0d70414790e6b3962006a</td>\n",
       "      <td>129</td>\n",
       "      <td>12.612</td>\n",
       "      <td>181.0</td>\n",
       "    </tr>\n",
       "    <tr>\n",
       "      <th>3471</th>\n",
       "      <td>57c8d0a346f10c0c4fc90739910bea4f</td>\n",
       "      <td>136</td>\n",
       "      <td>2.700</td>\n",
       "      <td>317.0</td>\n",
       "    </tr>\n",
       "    <tr>\n",
       "      <th>2952</th>\n",
       "      <td>4b5a71f89489aef4b68a18413da48586</td>\n",
       "      <td>145</td>\n",
       "      <td>8.600</td>\n",
       "      <td>300.0</td>\n",
       "    </tr>\n",
       "  </tbody>\n",
       "</table>\n",
       "<p>9978 rows × 4 columns</p>\n",
       "</div>"
      ],
      "text/plain": [
       "                              order_id  distinct_q  total_kg  total_units\n",
       "5471  8bb0e067cf5302c62ded647d4aef6e5c           1     0.000          4.0\n",
       "7181  b8e33e8ae603b174956ce684cac4dfee           1     0.000          1.0\n",
       "7194  b9333a5b7e418675c7fff8b92159da1f           1     0.000          1.0\n",
       "1833  2fdfbd2ee65811661cc16b276eb33a8a           1     0.000          1.0\n",
       "7210  b98aa19011d8e051548028a4075c7fb1           1     0.000          1.0\n",
       "...                                ...         ...       ...          ...\n",
       "6515  a77e9b1ac7d19b52b1bbfb4bc08ef158         118     4.736        262.0\n",
       "9810  fbf351bb22fd781edd54f278bae1668e         120     6.164        191.0\n",
       "5284  866cdbeb18d0d70414790e6b3962006a         129    12.612        181.0\n",
       "3471  57c8d0a346f10c0c4fc90739910bea4f         136     2.700        317.0\n",
       "2952  4b5a71f89489aef4b68a18413da48586         145     8.600        300.0\n",
       "\n",
       "[9978 rows x 4 columns]"
      ]
     },
     "execution_count": 4,
     "metadata": {},
     "output_type": "execute_result"
    }
   ],
   "source": [
    "order_info.sort_values(by='distinct_q')"
   ]
  },
  {
   "cell_type": "markdown",
   "metadata": {},
   "source": [
    "Vemos que todos los pedidos tienen al menos 1 producto.\n",
    "No incluyo un Q total de productos porque es seria simplemente la suma de total_kg + total_units lo que es info redundante para el modelo.\n",
    "En teoria esta información nos ayudará a predecir tiempo porque órdenes con mayor cantidad de productos deberían demorar más, y órdenes con productos con pesaje\n",
    "también implican tiempo adicional"
   ]
  },
  {
   "cell_type": "markdown",
   "metadata": {},
   "source": [
    "# Trabajando data de shoppers"
   ]
  },
  {
   "cell_type": "code",
   "execution_count": 5,
   "metadata": {},
   "outputs": [
    {
     "name": "stdout",
     "output_type": "stream",
     "text": [
      "<class 'pandas.core.frame.DataFrame'>\n",
      "RangeIndex: 2864 entries, 0 to 2863\n",
      "Data columns (total 6 columns):\n",
      "shopper_id       2864 non-null object\n",
      "seniority        2864 non-null object\n",
      "found_rate       2763 non-null float64\n",
      "picking_speed    2864 non-null float64\n",
      "accepted_rate    2837 non-null float64\n",
      "rating           2780 non-null float64\n",
      "dtypes: float64(4), object(2)\n",
      "memory usage: 134.4+ KB\n"
     ]
    }
   ],
   "source": [
    "shoppers.info()"
   ]
  },
  {
   "cell_type": "markdown",
   "metadata": {},
   "source": [
    "En esta data tenemos algunos missing values, 101 sin found rate, 27 sin accepted_rate y 84 sin rating, dado que son un % bajo con respecto al total de la data podríamos eliminarlos. Otra opción es imputar los datos para lo cual veremos las distribuciones."
   ]
  },
  {
   "cell_type": "code",
   "execution_count": 6,
   "metadata": {},
   "outputs": [
    {
     "data": {
      "text/plain": [
       "<matplotlib.axes._subplots.AxesSubplot at 0x1a272c6250>"
      ]
     },
     "execution_count": 6,
     "metadata": {},
     "output_type": "execute_result"
    },
    {
     "data": {
      "image/png": "[encoded data removed]",
      "text/plain": [
       "<Figure size 432x288 with 1 Axes>"
      ]
     },
     "metadata": {
      "needs_background": "light"
     },
     "output_type": "display_data"
    }
   ],
   "source": [
    "shoppers.found_rate.hist()"
   ]
  },
  {
   "cell_type": "markdown",
   "metadata": {},
   "source": [
    "El found_rate parece comportarse normal, por lo que imputar un promedio o mediana debería dar resultados parecidos"
   ]
  },
  {
   "cell_type": "code",
   "execution_count": 7,
   "metadata": {},
   "outputs": [
    {
     "data": {
      "text/plain": [
       "<matplotlib.axes._subplots.AxesSubplot at 0x1a24914d50>"
      ]
     },
     "execution_count": 7,
     "metadata": {},
     "output_type": "execute_result"
    },
    {
     "data": {
      "image/png": "[encoded data removed]",
      "text/plain": [
       "<Figure size 432x288 with 1 Axes>"
      ]
     },
     "metadata": {
      "needs_background": "light"
     },
     "output_type": "display_data"
    }
   ],
   "source": [
    "shoppers.accepted_rate.hist()"
   ]
  },
  {
   "cell_type": "markdown",
   "metadata": {},
   "source": [
    "El accepted_rate tiene una distribución diferente, por lo que creo que imputar un promedio sería malo, en este caso para simplificar también usaré la mediana "
   ]
  },
  {
   "cell_type": "code",
   "execution_count": 8,
   "metadata": {},
   "outputs": [
    {
     "data": {
      "text/plain": [
       "<matplotlib.axes._subplots.AxesSubplot at 0x1a24e75350>"
      ]
     },
     "execution_count": 8,
     "metadata": {},
     "output_type": "execute_result"
    },
    {
     "data": {
      "image/png": "[encoded data removed]",
      "text/plain": [
       "<Figure size 432x288 with 1 Axes>"
      ]
     },
     "metadata": {
      "needs_background": "light"
     },
     "output_type": "display_data"
    }
   ],
   "source": [
    "shoppers.rating.hist()"
   ]
  },
  {
   "cell_type": "markdown",
   "metadata": {},
   "source": [
    "El rating es similar al accepted_rate, por lo que también usaremos la mediana"
   ]
  },
  {
   "cell_type": "code",
   "execution_count": 9,
   "metadata": {},
   "outputs": [
    {
     "name": "stdout",
     "output_type": "stream",
     "text": [
      "found rate promedio: 0.8610823018458198 mediana: 0.8639\n",
      "accept rate promedio: 0.9082764196934224 mediana: 0.944444444444444\n",
      "rating rate promedio: 4.848428057553957 mediana: 4.88\n"
     ]
    }
   ],
   "source": [
    "print('found rate promedio:', shoppers.found_rate.mean(), \"mediana:\", shoppers.found_rate.median())\n",
    "print('accept rate promedio:', shoppers.accepted_rate.mean(), \"mediana:\", shoppers.accepted_rate.median())\n",
    "print('rating rate promedio:',shoppers.rating.mean(), \"mediana:\", shoppers.rating.median())"
   ]
  },
  {
   "cell_type": "code",
   "execution_count": 10,
   "metadata": {},
   "outputs": [],
   "source": [
    "shoppers.found_rate = shoppers.found_rate.fillna(shoppers.found_rate.median())\n",
    "shoppers.accepted_rate = shoppers.accepted_rate.fillna(shoppers.accepted_rate.median())\n",
    "shoppers.rating = shoppers.rating.fillna(shoppers.rating.median())"
   ]
  },
  {
   "cell_type": "code",
   "execution_count": 11,
   "metadata": {},
   "outputs": [
    {
     "name": "stdout",
     "output_type": "stream",
     "text": [
      "<class 'pandas.core.frame.DataFrame'>\n",
      "RangeIndex: 2864 entries, 0 to 2863\n",
      "Data columns (total 6 columns):\n",
      "shopper_id       2864 non-null object\n",
      "seniority        2864 non-null object\n",
      "found_rate       2864 non-null float64\n",
      "picking_speed    2864 non-null float64\n",
      "accepted_rate    2864 non-null float64\n",
      "rating           2864 non-null float64\n",
      "dtypes: float64(4), object(2)\n",
      "memory usage: 134.4+ KB\n"
     ]
    }
   ],
   "source": [
    "shoppers.info()"
   ]
  },
  {
   "cell_type": "markdown",
   "metadata": {},
   "source": [
    "Finalmente el dataframe está imputado y sin valores faltantes"
   ]
  },
  {
   "cell_type": "markdown",
   "metadata": {},
   "source": [
    "# Uniendo datos y calculando distancias"
   ]
  },
  {
   "cell_type": "markdown",
   "metadata": {},
   "source": [
    "De la data de tiendas lo que podemos calcular es la distancia entre la tienda y la persona, creo que la opción mas precisa sería calcular la distancia de la ruta segun la api de google maps, pero por temas de tiempo sólo calcularé una distancia de Haversine implemementada en geopy"
   ]
  },
  {
   "cell_type": "code",
   "execution_count": 12,
   "metadata": {},
   "outputs": [],
   "source": [
    "stores = stores.rename(columns={\"lat\":\"store_lat\", \"lng\":\"store_lng\"})"
   ]
  },
  {
   "cell_type": "code",
   "execution_count": 13,
   "metadata": {},
   "outputs": [],
   "source": [
    "data = pd.merge(orders, stores, on='store_branch_id')\n",
    "data = pd.merge(data, order_info, on='order_id')\n",
    "data = pd.merge(data, shoppers, on='shopper_id')"
   ]
  },
  {
   "cell_type": "code",
   "execution_count": 14,
   "metadata": {},
   "outputs": [],
   "source": [
    "# creamos una funcion para calcular la distancia\n",
    "\n",
    "def get_distance(client_lat, client_lng, store_lat, store_lng):\n",
    "    \"\"\"\n",
    "    get distance in KM between client and store\n",
    "    \"\"\"\n",
    "    start = (client_lat,client_lng)\n",
    "    end = (store_lat, store_lng)\n",
    "    return geodesic(start, end).km\n",
    "\n",
    "data['trip_distance'] = data.apply(lambda x: get_distance(x.lat, x.lng, x.store_lat, x.store_lng), axis=1) # aplicamos la funcion\n"
   ]
  },
  {
   "cell_type": "code",
   "execution_count": 15,
   "metadata": {},
   "outputs": [],
   "source": [
    "# borraré columnas que no me parece que aportan información al problema\n",
    "# podría haber dejado dummies para cada local, pero creo que son demasiadas y terminarían aumentando el r2 sólo por el numero de variables\n",
    "data_final = data.drop([\"order_id\", \"lat\", \"lng\", \"promised_time\", \"shopper_id\", \"store_branch_id\" , \"store_id\", \"store_lat\", \"store_lng\"], axis=1)"
   ]
  },
  {
   "cell_type": "code",
   "execution_count": 16,
   "metadata": {},
   "outputs": [],
   "source": [
    "# creando dummies para seniority\n",
    "data_final = pd.get_dummies(data_final)\n",
    "\n",
    "# creando metricas con respecto a cantidad de productos y velocidad de picking\n",
    "# consideré multiplicar este número por el found_rate pero dado que sería una transformación monotónica no cambia la información\n",
    "data_final['distinct_speed'] = data_final['distinct_q']/data_final['picking_speed']\n",
    "data_final['unit_speed'] = data_final['total_units']/data_final['picking_speed']\n",
    "data_final['kg_speed'] = data_final['total_kg']/data_final['picking_speed']"
   ]
  },
  {
   "cell_type": "code",
   "execution_count": 17,
   "metadata": {},
   "outputs": [],
   "source": [
    "# Separamos las features de la variable a predecir y ademas separamos las que no tienen prediccion.\n",
    "\n",
    "X = data_final[data_final.total_minutes.notnull()].drop('total_minutes', axis=1)\n",
    "y = data_final.total_minutes[data_final.total_minutes.notnull()]\n",
    "X_null = data_final[data_final.total_minutes.isnull()].drop('total_minutes', axis=1)"
   ]
  },
  {
   "cell_type": "code",
   "execution_count": 18,
   "metadata": {},
   "outputs": [
    {
     "data": {
      "text/html": [
       "<div>\n",
       "<style scoped>\n",
       "    .dataframe tbody tr th:only-of-type {\n",
       "        vertical-align: middle;\n",
       "    }\n",
       "\n",
       "    .dataframe tbody tr th {\n",
       "        vertical-align: top;\n",
       "    }\n",
       "\n",
       "    .dataframe thead th {\n",
       "        text-align: right;\n",
       "    }\n",
       "</style>\n",
       "<table border=\"1\" class=\"dataframe\">\n",
       "  <thead>\n",
       "    <tr style=\"text-align: right;\">\n",
       "      <th></th>\n",
       "      <th>on_demand</th>\n",
       "      <th>total_minutes</th>\n",
       "      <th>distinct_q</th>\n",
       "      <th>total_kg</th>\n",
       "      <th>total_units</th>\n",
       "      <th>found_rate</th>\n",
       "      <th>picking_speed</th>\n",
       "      <th>accepted_rate</th>\n",
       "      <th>rating</th>\n",
       "      <th>trip_distance</th>\n",
       "      <th>seniority_41dc7c9e385c4d2b6c1f7836973951bf</th>\n",
       "      <th>seniority_50e13ee63f086c2fe84229348bc91b5b</th>\n",
       "      <th>seniority_6c90661e6d2c7579f5ce337c3391dbb9</th>\n",
       "      <th>seniority_bb29b8d0d196b5db5a5350e5e3ae2b1f</th>\n",
       "      <th>distinct_speed</th>\n",
       "      <th>unit_speed</th>\n",
       "      <th>kg_speed</th>\n",
       "    </tr>\n",
       "  </thead>\n",
       "  <tbody>\n",
       "    <tr>\n",
       "      <th>on_demand</th>\n",
       "      <td>1.000000</td>\n",
       "      <td>-0.263293</td>\n",
       "      <td>-0.207620</td>\n",
       "      <td>-0.128286</td>\n",
       "      <td>-0.180227</td>\n",
       "      <td>0.034406</td>\n",
       "      <td>0.062464</td>\n",
       "      <td>-0.032129</td>\n",
       "      <td>-0.006732</td>\n",
       "      <td>0.005634</td>\n",
       "      <td>0.013876</td>\n",
       "      <td>0.050516</td>\n",
       "      <td>-0.059039</td>\n",
       "      <td>0.025824</td>\n",
       "      <td>-0.175299</td>\n",
       "      <td>-0.155671</td>\n",
       "      <td>-0.114918</td>\n",
       "    </tr>\n",
       "    <tr>\n",
       "      <th>total_minutes</th>\n",
       "      <td>-0.263293</td>\n",
       "      <td>1.000000</td>\n",
       "      <td>0.585021</td>\n",
       "      <td>0.288973</td>\n",
       "      <td>0.533873</td>\n",
       "      <td>-0.108019</td>\n",
       "      <td>0.080071</td>\n",
       "      <td>-0.020001</td>\n",
       "      <td>-0.020451</td>\n",
       "      <td>0.139457</td>\n",
       "      <td>0.007910</td>\n",
       "      <td>-0.007025</td>\n",
       "      <td>-0.006507</td>\n",
       "      <td>0.029210</td>\n",
       "      <td>0.444660</td>\n",
       "      <td>0.418468</td>\n",
       "      <td>0.229983</td>\n",
       "    </tr>\n",
       "    <tr>\n",
       "      <th>distinct_q</th>\n",
       "      <td>-0.207620</td>\n",
       "      <td>0.585021</td>\n",
       "      <td>1.000000</td>\n",
       "      <td>0.500585</td>\n",
       "      <td>0.889299</td>\n",
       "      <td>0.078436</td>\n",
       "      <td>-0.230473</td>\n",
       "      <td>0.110254</td>\n",
       "      <td>-0.030770</td>\n",
       "      <td>0.023058</td>\n",
       "      <td>-0.131345</td>\n",
       "      <td>-0.156152</td>\n",
       "      <td>0.239982</td>\n",
       "      <td>-0.045693</td>\n",
       "      <td>0.931467</td>\n",
       "      <td>0.847566</td>\n",
       "      <td>0.496653</td>\n",
       "    </tr>\n",
       "    <tr>\n",
       "      <th>total_kg</th>\n",
       "      <td>-0.128286</td>\n",
       "      <td>0.288973</td>\n",
       "      <td>0.500585</td>\n",
       "      <td>1.000000</td>\n",
       "      <td>0.392071</td>\n",
       "      <td>0.099772</td>\n",
       "      <td>-0.134382</td>\n",
       "      <td>0.074459</td>\n",
       "      <td>-0.016079</td>\n",
       "      <td>0.006954</td>\n",
       "      <td>-0.087771</td>\n",
       "      <td>-0.090565</td>\n",
       "      <td>0.148382</td>\n",
       "      <td>-0.029536</td>\n",
       "      <td>0.475257</td>\n",
       "      <td>0.385614</td>\n",
       "      <td>0.952621</td>\n",
       "    </tr>\n",
       "    <tr>\n",
       "      <th>total_units</th>\n",
       "      <td>-0.180227</td>\n",
       "      <td>0.533873</td>\n",
       "      <td>0.889299</td>\n",
       "      <td>0.392071</td>\n",
       "      <td>1.000000</td>\n",
       "      <td>0.077641</td>\n",
       "      <td>-0.194628</td>\n",
       "      <td>0.094332</td>\n",
       "      <td>-0.030248</td>\n",
       "      <td>0.021342</td>\n",
       "      <td>-0.116818</td>\n",
       "      <td>-0.134895</td>\n",
       "      <td>0.208200</td>\n",
       "      <td>-0.032346</td>\n",
       "      <td>0.825856</td>\n",
       "      <td>0.938107</td>\n",
       "      <td>0.392375</td>\n",
       "    </tr>\n",
       "    <tr>\n",
       "      <th>found_rate</th>\n",
       "      <td>0.034406</td>\n",
       "      <td>-0.108019</td>\n",
       "      <td>0.078436</td>\n",
       "      <td>0.099772</td>\n",
       "      <td>0.077641</td>\n",
       "      <td>1.000000</td>\n",
       "      <td>-0.378329</td>\n",
       "      <td>0.123773</td>\n",
       "      <td>-0.015806</td>\n",
       "      <td>0.002785</td>\n",
       "      <td>-0.218150</td>\n",
       "      <td>-0.226084</td>\n",
       "      <td>0.354536</td>\n",
       "      <td>-0.005201</td>\n",
       "      <td>0.179623</td>\n",
       "      <td>0.166981</td>\n",
       "      <td>0.153516</td>\n",
       "    </tr>\n",
       "    <tr>\n",
       "      <th>picking_speed</th>\n",
       "      <td>0.062464</td>\n",
       "      <td>0.080071</td>\n",
       "      <td>-0.230473</td>\n",
       "      <td>-0.134382</td>\n",
       "      <td>-0.194628</td>\n",
       "      <td>-0.378329</td>\n",
       "      <td>1.000000</td>\n",
       "      <td>-0.280728</td>\n",
       "      <td>0.012385</td>\n",
       "      <td>-0.009541</td>\n",
       "      <td>0.353799</td>\n",
       "      <td>0.420336</td>\n",
       "      <td>-0.642298</td>\n",
       "      <td>0.105520</td>\n",
       "      <td>-0.430061</td>\n",
       "      <td>-0.377149</td>\n",
       "      <td>-0.259791</td>\n",
       "    </tr>\n",
       "    <tr>\n",
       "      <th>accepted_rate</th>\n",
       "      <td>-0.032129</td>\n",
       "      <td>-0.020001</td>\n",
       "      <td>0.110254</td>\n",
       "      <td>0.074459</td>\n",
       "      <td>0.094332</td>\n",
       "      <td>0.123773</td>\n",
       "      <td>-0.280728</td>\n",
       "      <td>1.000000</td>\n",
       "      <td>-0.019070</td>\n",
       "      <td>0.007340</td>\n",
       "      <td>0.097764</td>\n",
       "      <td>-0.680666</td>\n",
       "      <td>0.528690</td>\n",
       "      <td>-0.088479</td>\n",
       "      <td>0.173991</td>\n",
       "      <td>0.153980</td>\n",
       "      <td>0.112319</td>\n",
       "    </tr>\n",
       "    <tr>\n",
       "      <th>rating</th>\n",
       "      <td>-0.006732</td>\n",
       "      <td>-0.020451</td>\n",
       "      <td>-0.030770</td>\n",
       "      <td>-0.016079</td>\n",
       "      <td>-0.030248</td>\n",
       "      <td>-0.015806</td>\n",
       "      <td>0.012385</td>\n",
       "      <td>-0.019070</td>\n",
       "      <td>1.000000</td>\n",
       "      <td>-0.003499</td>\n",
       "      <td>0.056976</td>\n",
       "      <td>-0.016952</td>\n",
       "      <td>-0.032717</td>\n",
       "      <td>0.023897</td>\n",
       "      <td>-0.030013</td>\n",
       "      <td>-0.026763</td>\n",
       "      <td>-0.014279</td>\n",
       "    </tr>\n",
       "    <tr>\n",
       "      <th>trip_distance</th>\n",
       "      <td>0.005634</td>\n",
       "      <td>0.139457</td>\n",
       "      <td>0.023058</td>\n",
       "      <td>0.006954</td>\n",
       "      <td>0.021342</td>\n",
       "      <td>0.002785</td>\n",
       "      <td>-0.009541</td>\n",
       "      <td>0.007340</td>\n",
       "      <td>-0.003499</td>\n",
       "      <td>1.000000</td>\n",
       "      <td>0.001778</td>\n",
       "      <td>-0.005608</td>\n",
       "      <td>-0.000905</td>\n",
       "      <td>0.019797</td>\n",
       "      <td>0.034505</td>\n",
       "      <td>0.032492</td>\n",
       "      <td>0.009936</td>\n",
       "    </tr>\n",
       "    <tr>\n",
       "      <th>seniority_41dc7c9e385c4d2b6c1f7836973951bf</th>\n",
       "      <td>0.013876</td>\n",
       "      <td>0.007910</td>\n",
       "      <td>-0.131345</td>\n",
       "      <td>-0.087771</td>\n",
       "      <td>-0.116818</td>\n",
       "      <td>-0.218150</td>\n",
       "      <td>0.353799</td>\n",
       "      <td>0.097764</td>\n",
       "      <td>0.056976</td>\n",
       "      <td>0.001778</td>\n",
       "      <td>1.000000</td>\n",
       "      <td>-0.224185</td>\n",
       "      <td>-0.533813</td>\n",
       "      <td>-0.045835</td>\n",
       "      <td>-0.211584</td>\n",
       "      <td>-0.189006</td>\n",
       "      <td>-0.136215</td>\n",
       "    </tr>\n",
       "    <tr>\n",
       "      <th>seniority_50e13ee63f086c2fe84229348bc91b5b</th>\n",
       "      <td>0.050516</td>\n",
       "      <td>-0.007025</td>\n",
       "      <td>-0.156152</td>\n",
       "      <td>-0.090565</td>\n",
       "      <td>-0.134895</td>\n",
       "      <td>-0.226084</td>\n",
       "      <td>0.420336</td>\n",
       "      <td>-0.680666</td>\n",
       "      <td>-0.016952</td>\n",
       "      <td>-0.005608</td>\n",
       "      <td>-0.224185</td>\n",
       "      <td>1.000000</td>\n",
       "      <td>-0.675859</td>\n",
       "      <td>-0.058032</td>\n",
       "      <td>-0.224795</td>\n",
       "      <td>-0.200032</td>\n",
       "      <td>-0.135254</td>\n",
       "    </tr>\n",
       "    <tr>\n",
       "      <th>seniority_6c90661e6d2c7579f5ce337c3391dbb9</th>\n",
       "      <td>-0.059039</td>\n",
       "      <td>-0.006507</td>\n",
       "      <td>0.239982</td>\n",
       "      <td>0.148382</td>\n",
       "      <td>0.208200</td>\n",
       "      <td>0.354536</td>\n",
       "      <td>-0.642298</td>\n",
       "      <td>0.528690</td>\n",
       "      <td>-0.032717</td>\n",
       "      <td>-0.000905</td>\n",
       "      <td>-0.533813</td>\n",
       "      <td>-0.675859</td>\n",
       "      <td>1.000000</td>\n",
       "      <td>-0.138182</td>\n",
       "      <td>0.362479</td>\n",
       "      <td>0.322031</td>\n",
       "      <td>0.225107</td>\n",
       "    </tr>\n",
       "    <tr>\n",
       "      <th>seniority_bb29b8d0d196b5db5a5350e5e3ae2b1f</th>\n",
       "      <td>0.025824</td>\n",
       "      <td>0.029210</td>\n",
       "      <td>-0.045693</td>\n",
       "      <td>-0.029536</td>\n",
       "      <td>-0.032346</td>\n",
       "      <td>-0.005201</td>\n",
       "      <td>0.105520</td>\n",
       "      <td>-0.088479</td>\n",
       "      <td>0.023897</td>\n",
       "      <td>0.019797</td>\n",
       "      <td>-0.045835</td>\n",
       "      <td>-0.058032</td>\n",
       "      <td>-0.138182</td>\n",
       "      <td>1.000000</td>\n",
       "      <td>-0.067851</td>\n",
       "      <td>-0.055609</td>\n",
       "      <td>-0.042901</td>\n",
       "    </tr>\n",
       "    <tr>\n",
       "      <th>distinct_speed</th>\n",
       "      <td>-0.175299</td>\n",
       "      <td>0.444660</td>\n",
       "      <td>0.931467</td>\n",
       "      <td>0.475257</td>\n",
       "      <td>0.825856</td>\n",
       "      <td>0.179623</td>\n",
       "      <td>-0.430061</td>\n",
       "      <td>0.173991</td>\n",
       "      <td>-0.030013</td>\n",
       "      <td>0.034505</td>\n",
       "      <td>-0.211584</td>\n",
       "      <td>-0.224795</td>\n",
       "      <td>0.362479</td>\n",
       "      <td>-0.067851</td>\n",
       "      <td>1.000000</td>\n",
       "      <td>0.906258</td>\n",
       "      <td>0.545480</td>\n",
       "    </tr>\n",
       "    <tr>\n",
       "      <th>unit_speed</th>\n",
       "      <td>-0.155671</td>\n",
       "      <td>0.418468</td>\n",
       "      <td>0.847566</td>\n",
       "      <td>0.385614</td>\n",
       "      <td>0.938107</td>\n",
       "      <td>0.166981</td>\n",
       "      <td>-0.377149</td>\n",
       "      <td>0.153980</td>\n",
       "      <td>-0.026763</td>\n",
       "      <td>0.032492</td>\n",
       "      <td>-0.189006</td>\n",
       "      <td>-0.200032</td>\n",
       "      <td>0.322031</td>\n",
       "      <td>-0.055609</td>\n",
       "      <td>0.906258</td>\n",
       "      <td>1.000000</td>\n",
       "      <td>0.448208</td>\n",
       "    </tr>\n",
       "    <tr>\n",
       "      <th>kg_speed</th>\n",
       "      <td>-0.114918</td>\n",
       "      <td>0.229983</td>\n",
       "      <td>0.496653</td>\n",
       "      <td>0.952621</td>\n",
       "      <td>0.392375</td>\n",
       "      <td>0.153516</td>\n",
       "      <td>-0.259791</td>\n",
       "      <td>0.112319</td>\n",
       "      <td>-0.014279</td>\n",
       "      <td>0.009936</td>\n",
       "      <td>-0.136215</td>\n",
       "      <td>-0.135254</td>\n",
       "      <td>0.225107</td>\n",
       "      <td>-0.042901</td>\n",
       "      <td>0.545480</td>\n",
       "      <td>0.448208</td>\n",
       "      <td>1.000000</td>\n",
       "    </tr>\n",
       "  </tbody>\n",
       "</table>\n",
       "</div>"
      ],
      "text/plain": [
       "                                            on_demand  total_minutes  \\\n",
       "on_demand                                    1.000000      -0.263293   \n",
       "total_minutes                               -0.263293       1.000000   \n",
       "distinct_q                                  -0.207620       0.585021   \n",
       "total_kg                                    -0.128286       0.288973   \n",
       "total_units                                 -0.180227       0.533873   \n",
       "found_rate                                   0.034406      -0.108019   \n",
       "picking_speed                                0.062464       0.080071   \n",
       "accepted_rate                               -0.032129      -0.020001   \n",
       "rating                                      -0.006732      -0.020451   \n",
       "trip_distance                                0.005634       0.139457   \n",
       "seniority_41dc7c9e385c4d2b6c1f7836973951bf   0.013876       0.007910   \n",
       "seniority_50e13ee63f086c2fe84229348bc91b5b   0.050516      -0.007025   \n",
       "seniority_6c90661e6d2c7579f5ce337c3391dbb9  -0.059039      -0.006507   \n",
       "seniority_bb29b8d0d196b5db5a5350e5e3ae2b1f   0.025824       0.029210   \n",
       "distinct_speed                              -0.175299       0.444660   \n",
       "unit_speed                                  -0.155671       0.418468   \n",
       "kg_speed                                    -0.114918       0.229983   \n",
       "\n",
       "                                            distinct_q  total_kg  total_units  \\\n",
       "on_demand                                    -0.207620 -0.128286    -0.180227   \n",
       "total_minutes                                 0.585021  0.288973     0.533873   \n",
       "distinct_q                                    1.000000  0.500585     0.889299   \n",
       "total_kg                                      0.500585  1.000000     0.392071   \n",
       "total_units                                   0.889299  0.392071     1.000000   \n",
       "found_rate                                    0.078436  0.099772     0.077641   \n",
       "picking_speed                                -0.230473 -0.134382    -0.194628   \n",
       "accepted_rate                                 0.110254  0.074459     0.094332   \n",
       "rating                                       -0.030770 -0.016079    -0.030248   \n",
       "trip_distance                                 0.023058  0.006954     0.021342   \n",
       "seniority_41dc7c9e385c4d2b6c1f7836973951bf   -0.131345 -0.087771    -0.116818   \n",
       "seniority_50e13ee63f086c2fe84229348bc91b5b   -0.156152 -0.090565    -0.134895   \n",
       "seniority_6c90661e6d2c7579f5ce337c3391dbb9    0.239982  0.148382     0.208200   \n",
       "seniority_bb29b8d0d196b5db5a5350e5e3ae2b1f   -0.045693 -0.029536    -0.032346   \n",
       "distinct_speed                                0.931467  0.475257     0.825856   \n",
       "unit_speed                                    0.847566  0.385614     0.938107   \n",
       "kg_speed                                      0.496653  0.952621     0.392375   \n",
       "\n",
       "                                            found_rate  picking_speed  \\\n",
       "on_demand                                     0.034406       0.062464   \n",
       "total_minutes                                -0.108019       0.080071   \n",
       "distinct_q                                    0.078436      -0.230473   \n",
       "total_kg                                      0.099772      -0.134382   \n",
       "total_units                                   0.077641      -0.194628   \n",
       "found_rate                                    1.000000      -0.378329   \n",
       "picking_speed                                -0.378329       1.000000   \n",
       "accepted_rate                                 0.123773      -0.280728   \n",
       "rating                                       -0.015806       0.012385   \n",
       "trip_distance                                 0.002785      -0.009541   \n",
       "seniority_41dc7c9e385c4d2b6c1f7836973951bf   -0.218150       0.353799   \n",
       "seniority_50e13ee63f086c2fe84229348bc91b5b   -0.226084       0.420336   \n",
       "seniority_6c90661e6d2c7579f5ce337c3391dbb9    0.354536      -0.642298   \n",
       "seniority_bb29b8d0d196b5db5a5350e5e3ae2b1f   -0.005201       0.105520   \n",
       "distinct_speed                                0.179623      -0.430061   \n",
       "unit_speed                                    0.166981      -0.377149   \n",
       "kg_speed                                      0.153516      -0.259791   \n",
       "\n",
       "                                            accepted_rate    rating  \\\n",
       "on_demand                                       -0.032129 -0.006732   \n",
       "total_minutes                                   -0.020001 -0.020451   \n",
       "distinct_q                                       0.110254 -0.030770   \n",
       "total_kg                                         0.074459 -0.016079   \n",
       "total_units                                      0.094332 -0.030248   \n",
       "found_rate                                       0.123773 -0.015806   \n",
       "picking_speed                                   -0.280728  0.012385   \n",
       "accepted_rate                                    1.000000 -0.019070   \n",
       "rating                                          -0.019070  1.000000   \n",
       "trip_distance                                    0.007340 -0.003499   \n",
       "seniority_41dc7c9e385c4d2b6c1f7836973951bf       0.097764  0.056976   \n",
       "seniority_50e13ee63f086c2fe84229348bc91b5b      -0.680666 -0.016952   \n",
       "seniority_6c90661e6d2c7579f5ce337c3391dbb9       0.528690 -0.032717   \n",
       "seniority_bb29b8d0d196b5db5a5350e5e3ae2b1f      -0.088479  0.023897   \n",
       "distinct_speed                                   0.173991 -0.030013   \n",
       "unit_speed                                       0.153980 -0.026763   \n",
       "kg_speed                                         0.112319 -0.014279   \n",
       "\n",
       "                                            trip_distance  \\\n",
       "on_demand                                        0.005634   \n",
       "total_minutes                                    0.139457   \n",
       "distinct_q                                       0.023058   \n",
       "total_kg                                         0.006954   \n",
       "total_units                                      0.021342   \n",
       "found_rate                                       0.002785   \n",
       "picking_speed                                   -0.009541   \n",
       "accepted_rate                                    0.007340   \n",
       "rating                                          -0.003499   \n",
       "trip_distance                                    1.000000   \n",
       "seniority_41dc7c9e385c4d2b6c1f7836973951bf       0.001778   \n",
       "seniority_50e13ee63f086c2fe84229348bc91b5b      -0.005608   \n",
       "seniority_6c90661e6d2c7579f5ce337c3391dbb9      -0.000905   \n",
       "seniority_bb29b8d0d196b5db5a5350e5e3ae2b1f       0.019797   \n",
       "distinct_speed                                   0.034505   \n",
       "unit_speed                                       0.032492   \n",
       "kg_speed                                         0.009936   \n",
       "\n",
       "                                            seniority_41dc7c9e385c4d2b6c1f7836973951bf  \\\n",
       "on_demand                                                                     0.013876   \n",
       "total_minutes                                                                 0.007910   \n",
       "distinct_q                                                                   -0.131345   \n",
       "total_kg                                                                     -0.087771   \n",
       "total_units                                                                  -0.116818   \n",
       "found_rate                                                                   -0.218150   \n",
       "picking_speed                                                                 0.353799   \n",
       "accepted_rate                                                                 0.097764   \n",
       "rating                                                                        0.056976   \n",
       "trip_distance                                                                 0.001778   \n",
       "seniority_41dc7c9e385c4d2b6c1f7836973951bf                                    1.000000   \n",
       "seniority_50e13ee63f086c2fe84229348bc91b5b                                   -0.224185   \n",
       "seniority_6c90661e6d2c7579f5ce337c3391dbb9                                   -0.533813   \n",
       "seniority_bb29b8d0d196b5db5a5350e5e3ae2b1f                                   -0.045835   \n",
       "distinct_speed                                                               -0.211584   \n",
       "unit_speed                                                                   -0.189006   \n",
       "kg_speed                                                                     -0.136215   \n",
       "\n",
       "                                            seniority_50e13ee63f086c2fe84229348bc91b5b  \\\n",
       "on_demand                                                                     0.050516   \n",
       "total_minutes                                                                -0.007025   \n",
       "distinct_q                                                                   -0.156152   \n",
       "total_kg                                                                     -0.090565   \n",
       "total_units                                                                  -0.134895   \n",
       "found_rate                                                                   -0.226084   \n",
       "picking_speed                                                                 0.420336   \n",
       "accepted_rate                                                                -0.680666   \n",
       "rating                                                                       -0.016952   \n",
       "trip_distance                                                                -0.005608   \n",
       "seniority_41dc7c9e385c4d2b6c1f7836973951bf                                   -0.224185   \n",
       "seniority_50e13ee63f086c2fe84229348bc91b5b                                    1.000000   \n",
       "seniority_6c90661e6d2c7579f5ce337c3391dbb9                                   -0.675859   \n",
       "seniority_bb29b8d0d196b5db5a5350e5e3ae2b1f                                   -0.058032   \n",
       "distinct_speed                                                               -0.224795   \n",
       "unit_speed                                                                   -0.200032   \n",
       "kg_speed                                                                     -0.135254   \n",
       "\n",
       "                                            seniority_6c90661e6d2c7579f5ce337c3391dbb9  \\\n",
       "on_demand                                                                    -0.059039   \n",
       "total_minutes                                                                -0.006507   \n",
       "distinct_q                                                                    0.239982   \n",
       "total_kg                                                                      0.148382   \n",
       "total_units                                                                   0.208200   \n",
       "found_rate                                                                    0.354536   \n",
       "picking_speed                                                                -0.642298   \n",
       "accepted_rate                                                                 0.528690   \n",
       "rating                                                                       -0.032717   \n",
       "trip_distance                                                                -0.000905   \n",
       "seniority_41dc7c9e385c4d2b6c1f7836973951bf                                   -0.533813   \n",
       "seniority_50e13ee63f086c2fe84229348bc91b5b                                   -0.675859   \n",
       "seniority_6c90661e6d2c7579f5ce337c3391dbb9                                    1.000000   \n",
       "seniority_bb29b8d0d196b5db5a5350e5e3ae2b1f                                   -0.138182   \n",
       "distinct_speed                                                                0.362479   \n",
       "unit_speed                                                                    0.322031   \n",
       "kg_speed                                                                      0.225107   \n",
       "\n",
       "                                            seniority_bb29b8d0d196b5db5a5350e5e3ae2b1f  \\\n",
       "on_demand                                                                     0.025824   \n",
       "total_minutes                                                                 0.029210   \n",
       "distinct_q                                                                   -0.045693   \n",
       "total_kg                                                                     -0.029536   \n",
       "total_units                                                                  -0.032346   \n",
       "found_rate                                                                   -0.005201   \n",
       "picking_speed                                                                 0.105520   \n",
       "accepted_rate                                                                -0.088479   \n",
       "rating                                                                        0.023897   \n",
       "trip_distance                                                                 0.019797   \n",
       "seniority_41dc7c9e385c4d2b6c1f7836973951bf                                   -0.045835   \n",
       "seniority_50e13ee63f086c2fe84229348bc91b5b                                   -0.058032   \n",
       "seniority_6c90661e6d2c7579f5ce337c3391dbb9                                   -0.138182   \n",
       "seniority_bb29b8d0d196b5db5a5350e5e3ae2b1f                                    1.000000   \n",
       "distinct_speed                                                               -0.067851   \n",
       "unit_speed                                                                   -0.055609   \n",
       "kg_speed                                                                     -0.042901   \n",
       "\n",
       "                                            distinct_speed  unit_speed  \\\n",
       "on_demand                                        -0.175299   -0.155671   \n",
       "total_minutes                                     0.444660    0.418468   \n",
       "distinct_q                                        0.931467    0.847566   \n",
       "total_kg                                          0.475257    0.385614   \n",
       "total_units                                       0.825856    0.938107   \n",
       "found_rate                                        0.179623    0.166981   \n",
       "picking_speed                                    -0.430061   -0.377149   \n",
       "accepted_rate                                     0.173991    0.153980   \n",
       "rating                                           -0.030013   -0.026763   \n",
       "trip_distance                                     0.034505    0.032492   \n",
       "seniority_41dc7c9e385c4d2b6c1f7836973951bf       -0.211584   -0.189006   \n",
       "seniority_50e13ee63f086c2fe84229348bc91b5b       -0.224795   -0.200032   \n",
       "seniority_6c90661e6d2c7579f5ce337c3391dbb9        0.362479    0.322031   \n",
       "seniority_bb29b8d0d196b5db5a5350e5e3ae2b1f       -0.067851   -0.055609   \n",
       "distinct_speed                                    1.000000    0.906258   \n",
       "unit_speed                                        0.906258    1.000000   \n",
       "kg_speed                                          0.545480    0.448208   \n",
       "\n",
       "                                            kg_speed  \n",
       "on_demand                                  -0.114918  \n",
       "total_minutes                               0.229983  \n",
       "distinct_q                                  0.496653  \n",
       "total_kg                                    0.952621  \n",
       "total_units                                 0.392375  \n",
       "found_rate                                  0.153516  \n",
       "picking_speed                              -0.259791  \n",
       "accepted_rate                               0.112319  \n",
       "rating                                     -0.014279  \n",
       "trip_distance                               0.009936  \n",
       "seniority_41dc7c9e385c4d2b6c1f7836973951bf -0.136215  \n",
       "seniority_50e13ee63f086c2fe84229348bc91b5b -0.135254  \n",
       "seniority_6c90661e6d2c7579f5ce337c3391dbb9  0.225107  \n",
       "seniority_bb29b8d0d196b5db5a5350e5e3ae2b1f -0.042901  \n",
       "distinct_speed                              0.545480  \n",
       "unit_speed                                  0.448208  \n",
       "kg_speed                                    1.000000  "
      ]
     },
     "execution_count": 18,
     "metadata": {},
     "output_type": "execute_result"
    }
   ],
   "source": [
    "data_final.corr()"
   ]
  },
  {
   "cell_type": "markdown",
   "metadata": {},
   "source": [
    "# Entrenamiento modelos"
   ]
  },
  {
   "cell_type": "markdown",
   "metadata": {},
   "source": [
    "Primero separamos los dataset en train test con un 80/20 y hacemos shuffle para asegurar que los datos no tengan algún tipo de orden"
   ]
  },
  {
   "cell_type": "code",
   "execution_count": 19,
   "metadata": {},
   "outputs": [],
   "source": [
    "X_train, X_test, y_train, y_test = train_test_split(X, y, test_size=0.2, random_state=666, shuffle=True)"
   ]
  },
  {
   "cell_type": "markdown",
   "metadata": {},
   "source": [
    "Entraremos una regresión lineal con valores normalizados"
   ]
  },
  {
   "cell_type": "code",
   "execution_count": 20,
   "metadata": {},
   "outputs": [
    {
     "name": "stdout",
     "output_type": "stream",
     "text": [
      "r2 score 0.4734525183947802\n",
      "mae test 18.571542813770726\n",
      "mae train 19.36828827735535\n",
      "mse test 585.5167227119338\n",
      "mse train 654.9631163832267\n"
     ]
    }
   ],
   "source": [
    "reg = LinearRegression(normalize=True, fit_intercept=True).fit(X_train, y_train)\n",
    "y_pred = reg.predict(X_test)\n",
    "y_pred_train = reg.predict(X_train)\n",
    "print('r2 score', reg.score(X_test, y_test))\n",
    "print('mae test', mean_absolute_error(y_test, y_pred))\n",
    "print('mae train', mean_absolute_error(y_train, y_pred_train))\n",
    "print('mse test', mean_squared_error(y_test, y_pred))\n",
    "print('mse train', mean_squared_error(y_train, y_pred_train))\n",
    "errors = y_test - y_pred"
   ]
  },
  {
   "cell_type": "code",
   "execution_count": 21,
   "metadata": {},
   "outputs": [
    {
     "data": {
      "text/plain": [
       "<matplotlib.axes._subplots.AxesSubplot at 0x1a24d79910>"
      ]
     },
     "execution_count": 21,
     "metadata": {},
     "output_type": "execute_result"
    },
    {
     "data": {
      "image/png": "[encoded data removed]",
      "text/plain": [
       "<Figure size 432x288 with 1 Axes>"
      ]
     },
     "metadata": {
      "needs_background": "light"
     },
     "output_type": "display_data"
    }
   ],
   "source": [
    "coef_values = pd.Series(reg.coef_, index=X_train.columns).sort_values()\n",
    "coef_values.plot(kind='barh', title='Valor de Coeficientes')"
   ]
  },
  {
   "cell_type": "markdown",
   "metadata": {},
   "source": [
    "Los valores de los coeficientes muestran algunas relaciones esperables como un mayor tiempo de despacho a mayor distancia o cantidad de productos. Llaman la atención por ejemplo que picking speed esté relacionado con mayor tiempo de despacho. Quizás el asignador de pedidos manda a los mejores pickers a pedidos mas grandes o que quedan más lejos? Y por eso es que se ve una correlación medio espuria."
   ]
  },
  {
   "cell_type": "code",
   "execution_count": 22,
   "metadata": {},
   "outputs": [
    {
     "data": {
      "text/plain": [
       "<matplotlib.axes._subplots.AxesSubplot at 0x1a24d9e050>"
      ]
     },
     "execution_count": 22,
     "metadata": {},
     "output_type": "execute_result"
    },
    {
     "data": {
      "image/png": "[encoded data removed]",
      "text/plain": [
       "<Figure size 432x288 with 1 Axes>"
      ]
     },
     "metadata": {
      "needs_background": "light"
     },
     "output_type": "display_data"
    }
   ],
   "source": [
    "errors.hist()"
   ]
  },
  {
   "cell_type": "code",
   "execution_count": 23,
   "metadata": {},
   "outputs": [
    {
     "data": {
      "text/plain": [
       "(-15.099209334812468, 16.517189953389167)"
      ]
     },
     "execution_count": 23,
     "metadata": {},
     "output_type": "execute_result"
    }
   ],
   "source": [
    "errors.quantile(.30), errors.quantile(.80)"
   ]
  },
  {
   "cell_type": "markdown",
   "metadata": {},
   "source": [
    "Un 50% de los errores son de entre 15 minutos de adelanto y 15 minutos de retraso, lo que podría llegar a ser tolerable por un cliente (entre percentil 30 y 80)"
   ]
  },
  {
   "cell_type": "markdown",
   "metadata": {},
   "source": [
    "Este modelo simple logra explicar un 47% de la varianza, y tiene un error promedio parecido entre el dataset de entrenamiento y prueba, lo que nos deja más seguros que no está haciendo overfit. Los errores tienen unos outliers bastante grandes sobre todo para el lado positivo (el tiempo fue muchísimo más del previsto) lo que me hace pensar que son casos muy excepcionales donde quizás el conductor tuvo un accidente, o algo más grave pudo pasar para tener mas de 30 minutos de atraso sobre la predicción (percentil 90 del error). La distribución de los errores si bien no es normal, está casi centrada en 0 y parece mostrar que la regresion lineal logra capturar bastante información para predecir el tiempo de despacho."
   ]
  },
  {
   "cell_type": "markdown",
   "metadata": {},
   "source": [
    "También probaré hacer un modelo regularizado, para ver si existe alguna mejoría en comparación a la regresión lineal tradicional"
   ]
  },
  {
   "cell_type": "code",
   "execution_count": 24,
   "metadata": {},
   "outputs": [
    {
     "name": "stdout",
     "output_type": "stream",
     "text": [
      "r2 score 0.4741178502407225\n",
      "mae test 18.56131237550185\n",
      "mae train 19.36413893501162\n",
      "mse test 584.7768788506273\n",
      "mse train 655.1233275447946\n"
     ]
    }
   ],
   "source": [
    "clf = Ridge(alpha=1.0)\n",
    "clf.fit(X_train, y_train)\n",
    "y_pred = clf.predict(X_test)\n",
    "y_pred_train = clf.predict(X_train)\n",
    "print('r2 score', clf.score(X_test, y_test))\n",
    "print('mae test', mean_absolute_error(y_test, y_pred))\n",
    "print('mae train', mean_absolute_error(y_train, y_pred_train))\n",
    "print('mse test', mean_squared_error(y_test, y_pred))\n",
    "print('mse train', mean_squared_error(y_train, y_pred_train))"
   ]
  },
  {
   "cell_type": "markdown",
   "metadata": {},
   "source": [
    "Tienen métricas muy similares, por lo que me hace pensar que las variables están bien definidas y que no existen variables que no estén aportando"
   ]
  },
  {
   "cell_type": "markdown",
   "metadata": {},
   "source": [
    "Probaré un Random Forest para ver si los métodos de árbol logran encontrar patrones no lineales en este dataset, de ser asi deberíamos ver una mejora en la prediccion"
   ]
  },
  {
   "cell_type": "code",
   "execution_count": 25,
   "metadata": {},
   "outputs": [
    {
     "name": "stdout",
     "output_type": "stream",
     "text": [
      "r2 score 0.44800654560374675\n",
      "mae test 19.06986118225547\n",
      "mae train 7.3252054055345885\n",
      "mse test 613.8124474382246\n",
      "mse train 94.63218921977851\n"
     ]
    }
   ],
   "source": [
    "regr = RandomForestRegressor(random_state=666)\n",
    "regr.fit(X_train, y_train)\n",
    "y_pred = regr.predict(X_test)\n",
    "y_pred_train = regr.predict(X_train)\n",
    "print('r2 score', regr.score(X_test, y_test))\n",
    "print('mae test', mean_absolute_error(y_test, y_pred))\n",
    "print('mae train', mean_absolute_error(y_train, y_pred_train))\n",
    "print('mse test', mean_squared_error(y_test, y_pred))\n",
    "print('mse train', mean_squared_error(y_train, y_pred_train))"
   ]
  },
  {
   "cell_type": "markdown",
   "metadata": {},
   "source": [
    "Con random forest tenemos un r2 un poco peor que con la regresión lineal, y la diferencia en errores entre train y test es muy grande, por lo que es probable que el árbol esté haciendo overfit a la data de entrenamiento. Por esto limitaremos la profundidad de los arboles. "
   ]
  },
  {
   "cell_type": "code",
   "execution_count": 26,
   "metadata": {},
   "outputs": [
    {
     "name": "stdout",
     "output_type": "stream",
     "text": [
      "r2 score 0.4677968596755304\n",
      "mae test 18.6288249374148\n",
      "mae train 16.637681675344517\n",
      "mse test 591.805771418381\n",
      "mse train 460.01582836923666\n"
     ]
    }
   ],
   "source": [
    "regr = RandomForestRegressor(max_depth=8, random_state=666)\n",
    "regr.fit(X_train, y_train)\n",
    "y_pred = regr.predict(X_test)\n",
    "y_pred_train = regr.predict(X_train)\n",
    "print('r2 score', regr.score(X_test, y_test))\n",
    "print('mae test', mean_absolute_error(y_test, y_pred))\n",
    "print('mae train', mean_absolute_error(y_train, y_pred_train))\n",
    "print('mse test', mean_squared_error(y_test, y_pred))\n",
    "print('mse train', mean_squared_error(y_train, y_pred_train))"
   ]
  },
  {
   "cell_type": "code",
   "execution_count": 27,
   "metadata": {},
   "outputs": [
    {
     "data": {
      "text/plain": [
       "<matplotlib.axes._subplots.AxesSubplot at 0x1a24c18910>"
      ]
     },
     "execution_count": 27,
     "metadata": {},
     "output_type": "execute_result"
    },
    {
     "data": {
      "image/png": "[encoded data removed]",
      "text/plain": [
       "<Figure size 432x288 with 1 Axes>"
      ]
     },
     "metadata": {
      "needs_background": "light"
     },
     "output_type": "display_data"
    }
   ],
   "source": [
    "feat_importances = pd.Series(regr.feature_importances_, index=X_train.columns).sort_values()\n",
    "feat_importances.plot(kind='barh', title='Importancia de Factores')"
   ]
  },
  {
   "cell_type": "markdown",
   "metadata": {},
   "source": [
    "Limitando la profundidad del árbol corregimos el overfitting del modelo, logrando resultados similares a la regresion lineal.\n",
    "\n",
    "Podemos ver que las variables mas importantes son la cantidad de productos diferentes, la velocidad del shopper y la distancia del lugar."
   ]
  },
  {
   "cell_type": "markdown",
   "metadata": {},
   "source": [
    "### Predicciones finales"
   ]
  },
  {
   "cell_type": "markdown",
   "metadata": {},
   "source": [
    "Dado que ambos modelos son bastante parecidos, usaré la regresion lineal por su simpleza, ya que me parece la mas eficiente en cuanto a recursos computacionales sin tener que sacrificar eficacia. Por temas de tiempo no pude hacer tuneo de hiperparámetros, pero mi intuición me dice que en este caso no mejoraría mucho para la cantidad de tiempo que podría tomar."
   ]
  },
  {
   "cell_type": "code",
   "execution_count": 28,
   "metadata": {},
   "outputs": [],
   "source": [
    "y_null = pd.Series(reg.predict(X_null))"
   ]
  },
  {
   "cell_type": "code",
   "execution_count": 29,
   "metadata": {},
   "outputs": [],
   "source": [
    "ids = pd.Series(data.order_id[X_null.index]).reset_index(drop=True)"
   ]
  },
  {
   "cell_type": "code",
   "execution_count": 30,
   "metadata": {},
   "outputs": [],
   "source": [
    "predictions = pd.concat([y_null, ids], axis=1, keys=['total_minutes', 'order_id'])"
   ]
  },
  {
   "cell_type": "code",
   "execution_count": 31,
   "metadata": {},
   "outputs": [],
   "source": [
    "predictions.to_csv('submission.csv')"
   ]
  },
  {
   "cell_type": "markdown",
   "metadata": {},
   "source": [
    "### Conclusiones"
   ]
  },
  {
   "cell_type": "markdown",
   "metadata": {},
   "source": [
    "Si bien el análisis que pude hacer por temas de tiempo fue bastante simple, creo que este problema no requiere de modelos más complejos (ej: deep learning) para poder estimar el tiempo de despacho, sino de más fuentes de datos que no tenemos en este dataset como por ejemplo.\n",
    "\n",
    "* Información en tiempo real a nivel de local (que tan lleno está, tiempo estimado para pasar por caja, que tanto % de productos fue repuesto, tamaño del súper)\n",
    "* Información en tiempo real a nivel de ciudad (tráfico, dia feriado, dia laboral, horario peak o no, sector de la ciudad, conectividad con carreteras)\n",
    "* Información del lugar de entrega (comuna de fácil acceso? , estacionamiento visitas o en la calle?, entrega en la puerta o en conserjeria?)"
   ]
  }
 ],
 "metadata": {
  "kernelspec": {
   "display_name": "Python 3",
   "language": "python",
   "name": "python3"
  },
  "language_info": {
   "codemirror_mode": {
    "name": "ipython",
    "version": 3
   },
   "file_extension": ".py",
   "mimetype": "text/x-python",
   "name": "python",
   "nbconvert_exporter": "python",
   "pygments_lexer": "ipython3",
   "version": "3.7.5"
  }
 },
 "nbformat": 4,
 "nbformat_minor": 4
}
